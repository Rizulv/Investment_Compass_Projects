{
 "cells": [
  {
   "cell_type": "code",
   "execution_count": 9,
   "id": "0307bc5a",
   "metadata": {},
   "outputs": [],
   "source": [
    "import requests\n",
    "\n",
    "api_key = '6ac56b0c666d4b7db3941f68dd2995d0'\n",
    "url = 'https://newsapi.org/v2/everything'\n",
    "\n",
    "params = {\n",
    "    'q': 'Tata Motors OR Mahindra & Mahindra',  # Query for articles related to both companies\n",
    "    'apiKey': api_key,\n",
    "    'pageSize': 100,  # Number of articles to fetch (max 100 per request)\n",
    "    'language': 'en'  # Fetch articles in English\n",
    "}\n",
    "\n",
    "response = requests.get(url, params=params)\n",
    "data = response.json()\n",
    "articles = data['articles']\n"
   ]
  },
  {
   "cell_type": "code",
   "execution_count": 10,
   "id": "3d448e53",
   "metadata": {},
   "outputs": [],
   "source": [
    "def search_articles(query, articles):\n",
    "    results = []\n",
    "    for article in articles:\n",
    "        if query.lower() in article['title'].lower() or query.lower() in article['description'].lower():\n",
    "            results.append(article)\n",
    "    return results\n"
   ]
  },
  {
   "cell_type": "code",
   "execution_count": 14,
   "id": "67f42709",
   "metadata": {
    "scrolled": true
   },
   "outputs": [
    {
     "name": "stdout",
     "output_type": "stream",
     "text": [
      "Search results for 'electric vehicle':\n",
      "Title: Belrise Industries bags major EV orders from Tata Motors, M&M\n",
      "Description: Belrise Industries secures major orders in electric vehicle space from Tata Motors and Mahindra & Mahindra, expanding its market reach.\n",
      "\n",
      "Title: Renault's Electric R5: A retro-inspired revival for sustainable mobility\n",
      "Description: Cars News: Renault debuted its long-awaited electric R5 at the Geneva Motor Show, aiming to boost its electric vehicle sales by reviving its classic 1972 model. The new model incorporates iconic design elements such as vertical tail-lights and vibrant colors.…\n",
      "\n",
      "Title: Report: Apple Abandons Self-Driving Electric Vehicle Initiative, Plans Workforce Reductions\n",
      "Description: Cars News: Apple has reportedly terminated its self-driving electric car project permanently, leading to impending layoffs of 'hundreds of employees' within the division. The decision marks a significant shift for the tech giant, which had been working on the…\n",
      "\n",
      "Title: Volkswagen and XPeng Strike Agreement to Collaborate on Two B-Class Battery Electric Vehicles\n",
      "Description: XPeng's Chairman and CEO, Xiaopeng He, expressed optimism about the partnership's potential, citing initial benefits from their Joint Sourcing Program and hinting at further opportunities.\n",
      "\n",
      "Title: Rise in Electric Vehicle Adoption to Propel Demand for Vital Minerals\n",
      "Description: The report further highlights an anticipated eightfold increase in new wind power installations by 2040 compared to 2022, leading to a surge in demand for related materials such as neodymium, praseodymium, dysprosium, and terbium, by 2.6 times, 3.1 times, 21.…\n",
      "\n"
     ]
    }
   ],
   "source": [
    "query = 'electric vehicle'\n",
    "search_results = search_articles(query, articles)\n",
    "\n",
    "print(f\"Search results for '{query}':\")\n",
    "for result in search_results:\n",
    "    print(f\"Title: {result['title']}\\nDescription: {result['description']}\\n\")\n"
   ]
  },
  {
   "cell_type": "code",
   "execution_count": 21,
   "id": "9732b9b0",
   "metadata": {
    "scrolled": false
   },
   "outputs": [
    {
     "name": "stdout",
     "output_type": "stream",
     "text": [
      "Search results for 'EV':\n",
      "Title: Mid-day Mood | Nifty, Sensex inch higher on buying in auto stocks, focus onÂ fundamentals\n",
      "Description: Nifty is now close to its all-time high, we expect it to surpass this level and touch new highs, said Siddhartha Khemka, Head - Retail Research, Motilal Oswal Financial Services\n",
      "\n",
      "Title: IT companies say GCCs wont#39; hit revenues, forge more tie-ups\n",
      "Description: TCS and Capgemini have facilitated the establishment of GCCs within their own premises for clients\n",
      "\n",
      "Title: M&M, Ola Electric, Tata Motors to get first mover advantage under PLI-Auto, FAME-II\n",
      "Description: Mahindra & Mahindra, Ola Electric, and Tata Motors to benefit from PLI and FAME-II schemes for EV manufacturing.\n",
      "\n",
      "Title: Belrise Industries bags major EV orders from Tata Motors, M&M\n",
      "Description: Belrise Industries secures major orders in electric vehicle space from Tata Motors and Mahindra & Mahindra, expanding its market reach.\n",
      "\n",
      "Title: Hot stocks: Why you should buy Kotak Mahindra Bank, sell TCS and REC for short term\n",
      "Description: In the short term, the Nifty 50 may continue to be susceptible to selling pressure with resistance anticipated around 22,250. On the downside, support levels are positioned at 21,800 and 21,700.\n",
      "\n",
      "Title: Commercial Vehicle Market revenue to surpass USD 50 Trillion by 2035, says Research Nester\n",
      "Description: Major commercial vehicle market players include Volvo Group, Tata Motors Limited, Daimler Truck ag, Mahindra & Mahindra Limited, Paccat Inc., Hino Motors Ltd., Volkswagen AG, Scania CV AB, Robert Bosch GmbH, and Ashok Leyland. Major commercial vehicle market …\n",
      "\n",
      "Title: Taking Stock: Nifty hits fresh all-time high, Sensex gains 535 points on sharp pulback\n",
      "Description: The BSE Sensex is 225.87 points away from its record high level of 73,427.59 tested on January 16, 2024.\n",
      "\n",
      "Title: Experts line up 10 hottest bets for next 3-4 weeks as market looks poised for a rally\n",
      "Description: If the Nifty 50 climbs above 22,127, the previous record high, and sustains the level, then 22,300 could be the next hurdle on the higher side, followed by 22,500, while the immediate support will be at 21,950, followed by 21,750\n",
      "\n",
      "Title: MHI considers proposal to lower GST on flex fuel vehicles, but auto industry divided on the matter\n",
      "Description: Tata Motors and M&M are the two OEMs that are objecting to the lowering of GST on flex-fuel vehicles because of their strong portfolio on EVs\n",
      "\n",
      "Title: Key electric car launches in India in 2024: Maruti eVX to Tata Curvv\n",
      "Description: The EV market in India is evolving rapidly with exciting launches in 2024. Tata, Maruti Suzuki, BYD, Mahindra, and Tata Motors are introducing budget-friendly electric SUVs and sedans with impressive ranges and cutting-edge features.\n",
      "\n",
      "Title: Tata Punch.ev: Variant-wise features with price explained\n",
      "Description: Adventure trim comes after the Smart Plus variant and gets all the features mentioned before. Additionally, this variant gets LED projector headlights with follow me-home function, Front fog lamps with cornering function Sequential indicators, Cruise control,…\n",
      "\n",
      "Title: Renault's Electric R5: A retro-inspired revival for sustainable mobility\n",
      "Description: Cars News: Renault debuted its long-awaited electric R5 at the Geneva Motor Show, aiming to boost its electric vehicle sales by reviving its classic 1972 model. The new model incorporates iconic design elements such as vertical tail-lights and vibrant colors.…\n",
      "\n",
      "Title: Food influencer Karan Dua brings home the new Royal Enfield Shotgun 650: Details\n",
      "Description: Food influencer Karan Dua purchased the Royal Enfield Shotgun 650, a retro-futuristic motorcycle, to revive his 'dug dug' food review series while exploring Indian food chains and sharing it with his social media followers. He aims to create vlog content for …\n",
      "\n",
      "Title: Good news for Indian defence personnel! Honda Elevate SUV now in canteen stores: Details\n",
      "Description: Honda Cars India launches Honda Elevate SUV in 34 Canteen Store Departments (CSD) across India, providing subsidised vehicles to Defence personnel. The SUV, built on Honda's Global Small Car platform, has a 1.5-litre petrol engine, spacious interiors, and adv…\n",
      "\n",
      "Title: Pure EV EPluto 7G e-scooter road test review: Capable daily commuter?\n",
      "Description: Recently, I got a chance to ride the Pure EV EPluto 7G electric scooter, available at a starting price of Rs 90,000 and going up to Rs 1.15 lakh (both prices, ex-showroom) in the Indian market. Here are all the details, regarding this e-scooter, such as desig…\n",
      "\n",
      "Title: Hyundai Ioniq 5 facelift revealed globally: Gets bigger battery and more range\n",
      "Description: The facelifted Ioniq 5 and the Ioniq 5 N will be available in the Korean market in March 2024, followed by other global markets. We expect the Ioniq 5 facelift to come to India by the end of 2024 or by starting of 2025.\n",
      "\n",
      "Title: BYD Unveils New Version of Best-Selling EV in China at Lower Price Than Its Predecessor\n",
      "Description: The company has been strategically lowering launch prices across its range of models, a move mirrored by EV rivals like Geely Auto and Tesla as they vie for customers amidst a market downturn.\n",
      "\n",
      "Title: Government Official States Tesla Discussing Production Facility with Thailand\n",
      "Description: Already, the country has secured investment commitments exceeding $1.44 billion from Chinese EV manufacturers, indicating its growing significance in the EV industry.\n",
      "\n",
      "Title: BYD Seal India launch on March 5: Specifications, range and more\n",
      "Description: The Seal has a wheelbase of 2920 mm. Moving on to the inside, the Seal EV gets a rotating massive 15.6-inch touchscreen infotainment system similar to Atto 3 and E6. The EV also features a 10.25-inch fully digital instrument cluster and head-up display.\n",
      "\n",
      "Title: VinFast breaks ground for 400-acre EV manufacturing facility in Tamil Nadu: Seeks import cuts from Modi govt\n",
      "Description: Chief Minister MK Stalin laid the foundation stone for VinFast Auto's facility in Tamil Nadu, a Rs 16,000 crore investment. The facility will manufacture vehicles and batteries, generate employment opportunities, and develop a nationwide dealership network. V…\n",
      "\n",
      "Title: McLaren Artura Spider supercar revealed globally: Brand’s first hybrid convertible\n",
      "Description: The engine comes paired with an E-motor housed in the 8-speed dual-clutch gearbox bell housing. Combined it puts out 700 PS of power and 720 Nm of torque. The Artura also has an electric power range of 33 kilometres. McLaren claims the Artura Spider can sprin…\n",
      "\n",
      "Title: Safety in Motion: The Role of Advanced Braking Systems on Our Roads\n",
      "Description: The automotive industry in India focuses on road safety, including passive features like airbags and crumple zones. However, the spotlight should be on ABS and EBD, which reduce accidents, pedestrian fatalities, and rear-end collisions, making Indian roads sa…\n",
      "\n",
      "Title: BYD Seal pips Elon Musk's Tesla Model 3 for India debut: Priced at Rs 41 lakh with up to 650 km range\n",
      "Description: Talking about the design of the Seal EV, design is inspired by the Ocean X concept car. The EV gets an all-glass roof, flush-fitting door handles four boomerang-shaped LED daytime running lights, a split headlamp design and a full-width LED light bar at the r…\n",
      "\n",
      "Title: BYD Seal official bookings open: Battery, range, features, launch details here\n",
      "Description: It has a claimed range of 570km on the WLTP cycle and BYD claims a 0-100kph time of 5.9 seconds. The battery can be charged at speeds of up to 150kW it takes just 37 minutes to charge from 10-80 percent. However, using the regular 11kW AC charger, it takes 8.…\n",
      "\n",
      "Title: Ford EV Owners Gain Access to Tesla Charging Network with Required Adapter\n",
      "Description: The decision to adopt Tesla's plug, known as the North American Charging Standard, underscores a broader industry trend, with many automakers following suit. This transition offers a more streamlined and user-friendly charging experience compared to the exist…\n",
      "\n",
      "Title: BYD, Assisted by Siblings, Secures Early Lead in Thailand's EV Market\n",
      "Description: Cars News: BYD, assisted by siblings, has secured an early lead in Thailand's EV market. Rever Group, the exclusive national distributor, played a crucial role in establishing Thailand as BYD's largest international market within 15 months. Learn how BYD domi…\n",
      "\n"
     ]
    }
   ],
   "source": [
    "query = 'EV'\n",
    "search_results = search_articles(query, articles)\n",
    "\n",
    "print(f\"Search results for '{query}':\")\n",
    "for result in search_results:\n",
    "    print(f\"Title: {result['title']}\\nDescription: {result['description']}\\n\")\n"
   ]
  },
  {
   "cell_type": "code",
   "execution_count": 22,
   "id": "56bcd044",
   "metadata": {},
   "outputs": [
    {
     "name": "stdout",
     "output_type": "stream",
     "text": [
      "Source counts: {'Moneycontrol': 5, 'BusinessLine': 3, 'GlobeNewswire': 1, 'The Times of India': 17}\n"
     ]
    }
   ],
   "source": [
    "source_counts = {}\n",
    "for article in search_results:\n",
    "    source = article['source']['name']\n",
    "    source_counts[source] = source_counts.get(source, 0) + 1\n",
    "print(\"Source counts:\", source_counts)"
   ]
  },
  {
   "cell_type": "code",
   "execution_count": 23,
   "id": "742d0fa9",
   "metadata": {},
   "outputs": [
    {
     "name": "stdout",
     "output_type": "stream",
     "text": [
      "Date Counts: {'February 2024': 15, 'March 2024': 11}\n"
     ]
    }
   ],
   "source": [
    "import datetime\n",
    "\n",
    "date_counts = {}\n",
    "for article in search_results:\n",
    "    date = datetime.datetime.strptime(article['publishedAt'], '%Y-%m-%dT%H:%M:%SZ').date()\n",
    "    month_year = date.strftime('%B %Y')\n",
    "    date_counts[month_year] = date_counts.get(month_year, 0) + 1\n",
    "print(\"Date Counts:\", date_counts)\n"
   ]
  },
  {
   "cell_type": "code",
   "execution_count": 24,
   "id": "93c2dfe4",
   "metadata": {
    "scrolled": true
   },
   "outputs": [
    {
     "name": "stdout",
     "output_type": "stream",
     "text": [
      "Words: ['nifty', 'is', 'now', 'close', 'to', 'its', 'all', 'time', 'high', 'we', 'expect', 'it', 'to', 'surpass', 'this', 'level', 'and', 'touch', 'new', 'highs', 'said', 'siddhartha', 'khemka', 'head', 'retail', 'research', 'motilal', 'oswal', 'financial', 'services', 'tcs', 'and', 'capgemini', 'have', 'facilitated', 'the', 'establishment', 'of', 'gccs', 'within', 'their', 'own', 'premises', 'for', 'clients', 'mahindra', 'mahindra', 'ola', 'electric', 'and', 'tata', 'motors', 'to', 'benefit', 'from', 'pli', 'and', 'fame', 'ii', 'schemes', 'for', 'ev', 'manufacturing', 'belrise', 'industries', 'secures', 'major', 'orders', 'in', 'electric', 'vehicle', 'space', 'from', 'tata', 'motors', 'and', 'mahindra', 'mahindra', 'expanding', 'its', 'market', 'reach', 'in', 'the', 'short', 'term', 'the', 'nifty', '50', 'may', 'continue', 'to', 'be', 'susceptible', 'to', 'selling', 'pressure', 'with', 'resistance', 'anticipated', 'around', '22', '250', 'on', 'the', 'downside', 'support', 'levels', 'are', 'positioned', 'at', '21', '800', 'and', '21', '700', 'major', 'commercial', 'vehicle', 'market', 'players', 'include', 'volvo', 'group', 'tata', 'motors', 'limited', 'daimler', 'truck', 'ag', 'mahindra', 'mahindra', 'limited', 'paccat', 'inc', 'hino', 'motors', 'ltd', 'volkswagen', 'ag', 'scania', 'cv', 'ab', 'robert', 'bosch', 'gmbh', 'and', 'ashok', 'leyland', 'major', 'commercial', 'vehicle', 'market', 'the', 'bse', 'sensex', 'is', '225', '87', 'points', 'away', 'from', 'its', 'record', 'high', 'level', 'of', '73', '427', '59', 'tested', 'on', 'january', '16', '2024', 'if', 'the', 'nifty', '50', 'climbs', 'above', '22', '127', 'the', 'previous', 'record', 'high', 'and', 'sustains', 'the', 'level', 'then', '22', '300', 'could', 'be', 'the', 'next', 'hurdle', 'on', 'the', 'higher', 'side', 'followed', 'by', '22', '500', 'while', 'the', 'immediate', 'support', 'will', 'be', 'at', '21', '950', 'followed', 'by', '21', '750', 'tata', 'motors', 'and', 'm', 'm', 'are', 'the', 'two', 'oems', 'that', 'are', 'objecting', 'to', 'the', 'lowering', 'of', 'gst', 'on', 'flex', 'fuel', 'vehicles', 'because', 'of', 'their', 'strong', 'portfolio', 'on', 'evs', 'the', 'ev', 'market', 'in', 'india', 'is', 'evolving', 'rapidly', 'with', 'exciting', 'launches', 'in', '2024', 'tata', 'maruti', 'suzuki', 'byd', 'mahindra', 'and', 'tata', 'motors', 'are', 'introducing', 'budget', 'friendly', 'electric', 'suvs', 'and', 'sedans', 'with', 'impressive', 'ranges', 'and', 'cutting', 'edge', 'features', 'adventure', 'trim', 'comes', 'after', 'the', 'smart', 'plus', 'variant', 'and', 'gets', 'all', 'the', 'features', 'mentioned', 'before', 'additionally', 'this', 'variant', 'gets', 'led', 'projector', 'headlights', 'with', 'follow', 'me', 'home', 'function', 'front', 'fog', 'lamps', 'with', 'cornering', 'function', 'sequential', 'indicators', 'cruise', 'control', 'cars', 'news', 'renault', 'debuted', 'its', 'long', 'awaited', 'electric', 'r5', 'at', 'the', 'geneva', 'motor', 'show', 'aiming', 'to', 'boost', 'its', 'electric', 'vehicle', 'sales', 'by', 'reviving', 'its', 'classic', '1972', 'model', 'the', 'new', 'model', 'incorporates', 'iconic', 'design', 'elements', 'such', 'as', 'vertical', 'tail', 'lights', 'and', 'vibrant', 'colors', 'food', 'influencer', 'karan', 'dua', 'purchased', 'the', 'royal', 'enfield', 'shotgun', '650', 'a', 'retro', 'futuristic', 'motorcycle', 'to', 'revive', 'his', 'dug', 'dug', 'food', 'review', 'series', 'while', 'exploring', 'indian', 'food', 'chains', 'and', 'sharing', 'it', 'with', 'his', 'social', 'media', 'followers', 'he', 'aims', 'to', 'create', 'vlog', 'content', 'for', 'honda', 'cars', 'india', 'launches', 'honda', 'elevate', 'suv', 'in', '34', 'canteen', 'store', 'departments', 'csd', 'across', 'india', 'providing', 'subsidised', 'vehicles', 'to', 'defence', 'personnel', 'the', 'suv', 'built', 'on', 'honda', 's', 'global', 'small', 'car', 'platform', 'has', 'a', '1', '5', 'litre', 'petrol', 'engine', 'spacious', 'interiors', 'and', 'adv', 'recently', 'i', 'got', 'a', 'chance', 'to', 'ride', 'the', 'pure', 'ev', 'epluto', '7g', 'electric', 'scooter', 'available', 'at', 'a', 'starting', 'price', 'of', 'rs', '90', '000', 'and', 'going', 'up', 'to', 'rs', '1', '15', 'lakh', 'both', 'prices', 'ex', 'showroom', 'in', 'the', 'indian', 'market', 'here', 'are', 'all', 'the', 'details', 'regarding', 'this', 'e', 'scooter', 'such', 'as', 'desig', 'the', 'facelifted', 'ioniq', '5', 'and', 'the', 'ioniq', '5', 'n', 'will', 'be', 'available', 'in', 'the', 'korean', 'market', 'in', 'march', '2024', 'followed', 'by', 'other', 'global', 'markets', 'we', 'expect', 'the', 'ioniq', '5', 'facelift', 'to', 'come', 'to', 'india', 'by', 'the', 'end', 'of', '2024', 'or', 'by', 'starting', 'of', '2025', 'the', 'company', 'has', 'been', 'strategically', 'lowering', 'launch', 'prices', 'across', 'its', 'range', 'of', 'models', 'a', 'move', 'mirrored', 'by', 'ev', 'rivals', 'like', 'geely', 'auto', 'and', 'tesla', 'as', 'they', 'vie', 'for', 'customers', 'amidst', 'a', 'market', 'downturn', 'already', 'the', 'country', 'has', 'secured', 'investment', 'commitments', 'exceeding', '1', '44', 'billion', 'from', 'chinese', 'ev', 'manufacturers', 'indicating', 'its', 'growing', 'significance', 'in', 'the', 'ev', 'industry', 'the', 'seal', 'has', 'a', 'wheelbase', 'of', '2920', 'mm', 'moving', 'on', 'to', 'the', 'inside', 'the', 'seal', 'ev', 'gets', 'a', 'rotating', 'massive', '15', '6', 'inch', 'touchscreen', 'infotainment', 'system', 'similar', 'to', 'atto', '3', 'and', 'e6', 'the', 'ev', 'also', 'features', 'a', '10', '25', 'inch', 'fully', 'digital', 'instrument', 'cluster', 'and', 'head', 'up', 'display', 'chief', 'minister', 'mk', 'stalin', 'laid', 'the', 'foundation', 'stone', 'for', 'vinfast', 'auto', 's', 'facility', 'in', 'tamil', 'nadu', 'a', 'rs', '16', '000', 'crore', 'investment', 'the', 'facility', 'will', 'manufacture', 'vehicles', 'and', 'batteries', 'generate', 'employment', 'opportunities', 'and', 'develop', 'a', 'nationwide', 'dealership', 'network', 'v', 'the', 'engine', 'comes', 'paired', 'with', 'an', 'e', 'motor', 'housed', 'in', 'the', '8', 'speed', 'dual', 'clutch', 'gearbox', 'bell', 'housing', 'combined', 'it', 'puts', 'out', '700', 'ps', 'of', 'power', 'and', '720', 'nm', 'of', 'torque', 'the', 'artura', 'also', 'has', 'an', 'electric', 'power', 'range', 'of', '33', 'kilometres', 'mclaren', 'claims', 'the', 'artura', 'spider', 'can', 'sprin', 'the', 'automotive', 'industry', 'in', 'india', 'focuses', 'on', 'road', 'safety', 'including', 'passive', 'features', 'like', 'airbags', 'and', 'crumple', 'zones', 'however', 'the', 'spotlight', 'should', 'be', 'on', 'abs', 'and', 'ebd', 'which', 'reduce', 'accidents', 'pedestrian', 'fatalities', 'and', 'rear', 'end', 'collisions', 'making', 'indian', 'roads', 'sa', 'talking', 'about', 'the', 'design', 'of', 'the', 'seal', 'ev', 'design', 'is', 'inspired', 'by', 'the', 'ocean', 'x', 'concept', 'car', 'the', 'ev', 'gets', 'an', 'all', 'glass', 'roof', 'flush', 'fitting', 'door', 'handles', 'four', 'boomerang', 'shaped', 'led', 'daytime', 'running', 'lights', 'a', 'split', 'headlamp', 'design', 'and', 'a', 'full', 'width', 'led', 'light', 'bar', 'at', 'the', 'r', 'it', 'has', 'a', 'claimed', 'range', 'of', '570km', 'on', 'the', 'wltp', 'cycle', 'and', 'byd', 'claims', 'a', '0', '100kph', 'time', 'of', '5', '9', 'seconds', 'the', 'battery', 'can', 'be', 'charged', 'at', 'speeds', 'of', 'up', 'to', '150kw', 'it', 'takes', 'just', '37', 'minutes', 'to', 'charge', 'from', '10', '80', 'percent', 'however', 'using', 'the', 'regular', '11kw', 'ac', 'charger', 'it', 'takes', '8', 'the', 'decision', 'to', 'adopt', 'tesla', 's', 'plug', 'known', 'as', 'the', 'north', 'american', 'charging', 'standard', 'underscores', 'a', 'broader', 'industry', 'trend', 'with', 'many', 'automakers', 'following', 'suit', 'this', 'transition', 'offers', 'a', 'more', 'streamlined', 'and', 'user', 'friendly', 'charging', 'experience', 'compared', 'to', 'the', 'exist', 'cars', 'news', 'byd', 'assisted', 'by', 'siblings', 'has', 'secured', 'an', 'early', 'lead', 'in', 'thailand', 's', 'ev', 'market', 'rever', 'group', 'the', 'exclusive', 'national', 'distributor', 'played', 'a', 'crucial', 'role', 'in', 'establishing', 'thailand', 'as', 'byd', 's', 'largest', 'international', 'market', 'within', '15', 'months', 'learn', 'how', 'byd', 'domi']\n"
     ]
    }
   ],
   "source": [
    "from collections import Counter\n",
    "import re\n",
    "\n",
    "words = []\n",
    "for article in search_results:\n",
    "    words.extend(re.findall(r'\\w+', article['description'].lower()))\n",
    "\n",
    "keyword_counts = Counter(words).most_common(10)\n",
    "print(\"Words:\", words)\n"
   ]
  },
  {
   "cell_type": "code",
   "execution_count": 25,
   "id": "28c85f5d",
   "metadata": {},
   "outputs": [
    {
     "name": "stdout",
     "output_type": "stream",
     "text": [
      "Data exported to search_results.xlsx\n"
     ]
    }
   ],
   "source": [
    "import pandas as pd\n",
    "import requests\n",
    "import datetime\n",
    "from collections import Counter\n",
    "import re\n",
    "\n",
    "api_key = '6ac56b0c666d4b7db3941f68dd2995d0'\n",
    "url = 'https://newsapi.org/v2/everything'\n",
    "\n",
    "params = {\n",
    "    'q': 'Tata Motors OR Mahindra & Mahindra',\n",
    "    'apiKey': api_key,\n",
    "    'pageSize': 100,\n",
    "    'language': 'en'\n",
    "}\n",
    "\n",
    "response = requests.get(url, params=params)\n",
    "data = response.json()\n",
    "articles = data['articles']\n",
    "\n",
    "def search_articles(query, articles):\n",
    "    results = []\n",
    "    for article in articles:\n",
    "        if query.lower() in article['title'].lower() or query.lower() in article['description'].lower():\n",
    "            results.append(article)\n",
    "    return results\n",
    "\n",
    "queries = ['electric vehicle', 'EV']\n",
    "search_results = []\n",
    "for query in queries:\n",
    "    results = search_articles(query, articles)\n",
    "    for result in results:\n",
    "        search_results.append({\n",
    "            'Query': query,\n",
    "            'Title': result['title'],\n",
    "            'Description': result['description'],\n",
    "            'Source': result['source']['name'],\n",
    "            'Published At': result['publishedAt']\n",
    "        })\n",
    "\n",
    "df = pd.DataFrame(search_results)\n",
    "\n",
    "# Extracting keywords from descriptions\n",
    "words = []\n",
    "for description in df['Description']:\n",
    "    words.extend(re.findall(r'\\w+', description.lower()))\n",
    "\n",
    "keyword_counts = Counter(words).most_common(10)\n",
    "keywords = [keyword for keyword, count in keyword_counts]\n",
    "df['Keywords'] = ', '.join(keywords)\n",
    "\n",
    "# Export the DataFrame to an Excel file\n",
    "df.to_excel('search_results.xlsx', index=False)\n",
    "\n",
    "print(\"Data exported to search_results.xlsx\")\n"
   ]
  },
  {
   "cell_type": "code",
   "execution_count": null,
   "id": "8b5ec76c",
   "metadata": {},
   "outputs": [],
   "source": []
  }
 ],
 "metadata": {
  "kernelspec": {
   "display_name": "Python 3 (ipykernel)",
   "language": "python",
   "name": "python3"
  },
  "language_info": {
   "codemirror_mode": {
    "name": "ipython",
    "version": 3
   },
   "file_extension": ".py",
   "mimetype": "text/x-python",
   "name": "python",
   "nbconvert_exporter": "python",
   "pygments_lexer": "ipython3",
   "version": "3.9.13"
  }
 },
 "nbformat": 4,
 "nbformat_minor": 5
}
